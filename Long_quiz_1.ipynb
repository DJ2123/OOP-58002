{
  "nbformat": 4,
  "nbformat_minor": 0,
  "metadata": {
    "colab": {
      "name": "Long quiz 1",
      "provenance": [],
      "authorship_tag": "ABX9TyOaQ4E2xRN43OwKbgHoRzvH",
      "include_colab_link": true
    },
    "kernelspec": {
      "name": "python3",
      "display_name": "Python 3"
    },
    "language_info": {
      "name": "python"
    }
  },
  "cells": [
    {
      "cell_type": "markdown",
      "metadata": {
        "id": "view-in-github",
        "colab_type": "text"
      },
      "source": [
        "<a href=\"https://colab.research.google.com/github/DJ2123/OOP-58002/blob/main/Long_quiz_1.ipynb\" target=\"_parent\"><img src=\"https://colab.research.google.com/assets/colab-badge.svg\" alt=\"Open In Colab\"/></a>"
      ]
    },
    {
      "cell_type": "code",
      "execution_count": 36,
      "metadata": {
        "colab": {
          "base_uri": "https://localhost:8080/"
        },
        "id": "xCGAp6G6jdhE",
        "outputId": "ab82e17a-2b2f-4a56-d5f9-37dc0a6f7dd6"
      },
      "outputs": [
        {
          "output_type": "stream",
          "name": "stdout",
          "text": [
            "Input temperature: 2\n",
            "35.6 Degrees Farenheit\n"
          ]
        }
      ],
      "source": [
        "class Temperature():\n",
        "  \n",
        "  def __init__(self, celsius):\n",
        "        self.celsius = celsius\n",
        "\n",
        "  def Fahrenheit(self):\n",
        "        result = float((9 * self.celsius) / 5 + 32)\n",
        "        return result\n",
        "  \n",
        "  def Display(self):\n",
        "        print(self.Fahrenheit(), \"Degrees Farenheit\")\n",
        "\n",
        "input_celsius = float(input(\"Input temperature: \"))\n",
        "temp2 = Temperature(input_celsius)\n",
        "temp2.Display()"
      ]
    }
  ]
}