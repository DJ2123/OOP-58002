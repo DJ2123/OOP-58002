{
  "nbformat": 4,
  "nbformat_minor": 0,
  "metadata": {
    "colab": {
      "name": "Prelims number 2.ipynb",
      "provenance": [],
      "authorship_tag": "ABX9TyNrGe5HoV+nVRXocI3TmMs4",
      "include_colab_link": true
    },
    "kernelspec": {
      "name": "python3",
      "display_name": "Python 3"
    },
    "language_info": {
      "name": "python"
    }
  },
  "cells": [
    {
      "cell_type": "markdown",
      "metadata": {
        "id": "view-in-github",
        "colab_type": "text"
      },
      "source": [
        "<a href=\"https://colab.research.google.com/github/DJ2123/OOP-58002/blob/main/Prelims_number_2.ipynb\" target=\"_parent\"><img src=\"https://colab.research.google.com/assets/colab-badge.svg\" alt=\"Open In Colab\"/></a>"
      ]
    },
    {
      "cell_type": "code",
      "execution_count": 19,
      "metadata": {
        "colab": {
          "base_uri": "https://localhost:8080/"
        },
        "id": "6LyqdiV-FEev",
        "outputId": "7a4b0578-f730-4258-b9bc-7760155934f5"
      },
      "outputs": [
        {
          "output_type": "stream",
          "name": "stdout",
          "text": [
            "Student Details:\n",
            "Name: Daniel Joseph Martinez Viray\n",
            "Student Number: 202111777\n",
            "Age: 18\n",
            "School: Adamson University\n",
            "Course: Computer Engineering\n"
          ]
        }
      ],
      "source": [
        "class Student:\n",
        "\n",
        "  def __init__(self,name,student_no,age,school,course):\n",
        "    self.name = name\n",
        "    self.student_no = student_no\n",
        "    self.age = age\n",
        "    self.school = school\n",
        "    self.course = course\n",
        "\n",
        "  def display(self):\n",
        "    print('Student Details:')\n",
        "    print('Name:', Myself.name)\n",
        "    print('Student Number:', Myself.student_no)\n",
        "    print('Age:', Myself.age)\n",
        "    print('School:', Myself.school)\n",
        "    print('Course:', Myself.course)\n",
        "\n",
        "Myself = Student(\"Daniel Joseph Martinez Viray\", 202111777, 18, \"Adamson University\", \"Computer Engineering\")\n",
        "\n",
        "Myself.display()\n",
        "\n",
        "\n",
        "\n",
        "\n",
        " "
      ]
    }
  ]
}