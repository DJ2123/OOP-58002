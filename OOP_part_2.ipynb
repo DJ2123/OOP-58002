{
  "nbformat": 4,
  "nbformat_minor": 0,
  "metadata": {
    "colab": {
      "name": "OOP part 2.ipynb",
      "provenance": [],
      "collapsed_sections": [],
      "authorship_tag": "ABX9TyN0iP776VTVCAFA3z+5CpO/",
      "include_colab_link": true
    },
    "kernelspec": {
      "name": "python3",
      "display_name": "Python 3"
    },
    "language_info": {
      "name": "python"
    }
  },
  "cells": [
    {
      "cell_type": "markdown",
      "metadata": {
        "id": "view-in-github",
        "colab_type": "text"
      },
      "source": [
        "<a href=\"https://colab.research.google.com/github/DJ2123/OOP-58002/blob/main/OOP_part_2.ipynb\" target=\"_parent\"><img src=\"https://colab.research.google.com/assets/colab-badge.svg\" alt=\"Open In Colab\"/></a>"
      ]
    },
    {
      "cell_type": "markdown",
      "source": [
        "Classes with Multiple Objects"
      ],
      "metadata": {
        "id": "kGlkY_q6EKgW"
      }
    },
    {
      "cell_type": "code",
      "execution_count": null,
      "metadata": {
        "colab": {
          "base_uri": "https://localhost:8080/"
        },
        "id": "Wg-q03KGDC8C",
        "outputId": "5c7e5dac-954b-4109-c720-d4cf6f6dcc14"
      },
      "outputs": [
        {
          "output_type": "stream",
          "name": "stdout",
          "text": [
            "Griffon Vulture flies above clouds\n",
            "Common Crane flies above clouds\n",
            "Philippine Eagle is the national bird of the Philippines\n"
          ]
        }
      ],
      "source": [
        "class Birds:\n",
        "  def __init__(self, bird_name):\n",
        "    self.bird_name = bird_name\n",
        "\n",
        "  def flying_birds(self):\n",
        "    print(f\"{self.bird_name} flies above clouds\")\n",
        "\n",
        "  def non_flying_birds(self):\n",
        "    print(f\"{self.bird_name} is the national bird of the Philippines\")\n",
        "\n",
        "vulture = Birds(\"Griffon Vulture\")\n",
        "crane = Birds(\"Common Crane\")\n",
        "eagle = Birds(\"Philippine Eagle\")\n",
        "\n",
        "vulture.flying_birds()\n",
        "crane.flying_birds()\n",
        "eagle.non_flying_birds()"
      ]
    },
    {
      "cell_type": "markdown",
      "source": [
        "Encapsulation"
      ],
      "metadata": {
        "id": "82PRb3rvEYmu"
      }
    },
    {
      "cell_type": "code",
      "source": [
        "class foo:\n",
        "  def __init__(self,a,b):\n",
        "    self.__a = a\n",
        "    self.__b = b\n",
        "\n",
        "  def add(self):\n",
        "    return self.__a + self.__b\n",
        "  def sub(self):\n",
        "    return self.__a - self.__b\n",
        "foo_object = foo(3,4)\n",
        "\n",
        "print(foo_object.add()) \n",
        "print(foo_object.sub())  \n",
        "\n",
        "foo_object.__b = 5\n",
        "foo_object.__a = 7\n",
        "\n",
        "print(foo_object.add())\n",
        "print(foo_object.sub())"
      ],
      "metadata": {
        "colab": {
          "base_uri": "https://localhost:8080/"
        },
        "id": "VM7u9K51ESQ3",
        "outputId": "05e5adf9-2d76-4be3-8d2d-7698d3ef060b"
      },
      "execution_count": null,
      "outputs": [
        {
          "output_type": "stream",
          "name": "stdout",
          "text": [
            "7\n",
            "-1\n",
            "7\n",
            "-1\n"
          ]
        }
      ]
    },
    {
      "cell_type": "markdown",
      "source": [
        "Inheritance"
      ],
      "metadata": {
        "id": "x9-qu-d8EaRQ"
      }
    },
    {
      "cell_type": "code",
      "source": [
        "class Person:\n",
        "  def __init__(self,firstname,surname):\n",
        "    self.firstname = firstname\n",
        "    self.surname = surname\n",
        "\n",
        "  def printname(self):\n",
        "    print(self.firstname,self.surname)\n",
        "\n",
        "person = Person(\"Dexter\",\"Cuaresma\")\n",
        "person.printname()\n",
        "\n",
        "class Student(Person):\n",
        "  pass\n",
        "\n",
        "person = Student(\"Rico\", \"Teodoro\")\n",
        "person.printname()"
      ],
      "metadata": {
        "colab": {
          "base_uri": "https://localhost:8080/"
        },
        "id": "xH8oPtQGES6E",
        "outputId": "15d40587-ce16-4b5b-d22f-8a2097822bea"
      },
      "execution_count": null,
      "outputs": [
        {
          "output_type": "stream",
          "name": "stdout",
          "text": [
            "Dexter Cuaresma\n",
            "Rico Teodoro\n"
          ]
        }
      ]
    },
    {
      "cell_type": "markdown",
      "source": [
        "Polymorphism"
      ],
      "metadata": {
        "id": "lBgIQAkJEbgR"
      }
    },
    {
      "cell_type": "code",
      "source": [
        "class RegularPolygon:\n",
        "    def __init__(self,side):\n",
        "        self.side = side\n",
        "class Square(RegularPolygon):\n",
        "    def area(self):\n",
        "        return self.side * self.side\n",
        "class EquilateralTriangle(RegularPolygon):\n",
        "    def area(self):\n",
        "        return self.side * self.side * 0.433\n",
        "\n",
        "x = Square(4)\n",
        "y = EquilateralTriangle(3)\n",
        "\n",
        "print(x.area())\n",
        "print(y.area())"
      ],
      "metadata": {
        "colab": {
          "base_uri": "https://localhost:8080/"
        },
        "id": "8jk3lGh2EVpZ",
        "outputId": "cef82a13-02dc-4e17-cf75-ba3ee096c7b6"
      },
      "execution_count": null,
      "outputs": [
        {
          "output_type": "stream",
          "name": "stdout",
          "text": [
            "16\n",
            "3.897\n"
          ]
        }
      ]
    },
    {
      "cell_type": "markdown",
      "source": [
        "Application 1\n",
        "\n",
        "\n",
        "1. Create a Python program that displays the name of three students (Student 1, Student 2, and Student 3) and their term grades\n",
        "3. Create a class name Person and attributes – std1, std2, std3, pre,mid,fin\n",
        "4. Compute the average of each term grade using Grade() method\n",
        "5. Information about student’s grades must be hidden from others"
      ],
      "metadata": {
        "id": "ALKWB2ehEdJx"
      }
    },
    {
      "cell_type": "code",
      "source": [
        "class Person:\n",
        "  def __init__(self,std1,std2,std3,pre,mid,fin): #Create a class name Person and attributes – std1, std2, std3, pre,mid,fin\n",
        "    self.std1 = std1\n",
        "    self.std2 = std2\n",
        "    self.std3 = std3\n",
        "    self.pre = pre*.30\n",
        "    self.mid = mid*.30\n",
        "    self.fin = fin*.40\n",
        "  def Grade(self): #Compute the average of each term grade using Grade() method\n",
        "    print(\"Student:\" + self.std1,self.std2,self.std3)\n",
        "    print(\"Prelims: \" + str(self.pre))\n",
        "    print(\"Midterms: \" + str(self.mid))\n",
        "    print(\"Finals: \" + str(self.fin))\n",
        "    print(\"Final Grade: \" + str((self.pre + self.mid + self.fin)/3)) \n",
        "\n",
        "Student1 = Person(\"  Daniel Viray\",\"\",\"\", 90, 80, 70)\n",
        "Student2 = Person(\"\",\" Richard Buan\",\"\", 80, 60, 70)\n",
        "Student3 = Person(\"\",\"\",\"Ryanne Villalon\", 90, 90, 80)\n",
        "\n",
        "student = input(str(\"Please Input the student's number: \")) #Create a Python program that displays the name of three students (Student 1, Student 2, and Student 3) and their term grades #Information about student’s grades must be hidden from others\n",
        "\n",
        "if student==\"1\":\n",
        "  Student1.Grade()\n",
        "elif student==\"2\":\n",
        "  Student2.Grade()\n",
        "elif student==\"3\":\n",
        "  Student3.Grade()\n",
        "else:\n",
        "  print(\"Invalid Input, please try again.\")"
      ],
      "metadata": {
        "id": "Y_Ie9zZtE4ZR",
        "colab": {
          "base_uri": "https://localhost:8080/"
        },
        "outputId": "af3c153e-ee29-4275-f7bf-b521167aa713"
      },
      "execution_count": 31,
      "outputs": [
        {
          "output_type": "stream",
          "name": "stdout",
          "text": [
            "Please Input the student's number: 2\n",
            "Student:  Richard Buan \n",
            "Prelims: 24.0\n",
            "Midterms: 18.0\n",
            "Finals: 28.0\n",
            "Final Grade: 23.333333333333332\n"
          ]
        }
      ]
    }
  ]
}