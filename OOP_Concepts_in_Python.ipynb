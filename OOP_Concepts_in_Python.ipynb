{
  "nbformat": 4,
  "nbformat_minor": 0,
  "metadata": {
    "colab": {
      "name": "OOP Concepts in Python.ipynb",
      "provenance": [],
      "authorship_tag": "ABX9TyPYN8AZXteX2ERxmWGXDqnD",
      "include_colab_link": true
    },
    "kernelspec": {
      "name": "python3",
      "display_name": "Python 3"
    },
    "language_info": {
      "name": "python"
    }
  },
  "cells": [
    {
      "cell_type": "markdown",
      "metadata": {
        "id": "view-in-github",
        "colab_type": "text"
      },
      "source": [
        "<a href=\"https://colab.research.google.com/github/DJ2123/OOP-58002/blob/main/OOP_Concepts_in_Python.ipynb\" target=\"_parent\"><img src=\"https://colab.research.google.com/assets/colab-badge.svg\" alt=\"Open In Colab\"/></a>"
      ]
    },
    {
      "cell_type": "markdown",
      "source": [
        "Create a Class"
      ],
      "metadata": {
        "id": "R7wCoRV0448r"
      }
    },
    {
      "cell_type": "code",
      "execution_count": null,
      "metadata": {
        "id": "UTpSomc94qMd"
      },
      "outputs": [],
      "source": [
        "class Car:\n",
        "  pass"
      ]
    },
    {
      "cell_type": "markdown",
      "source": [
        "Object Methods"
      ],
      "metadata": {
        "id": "Xav8akEt5AZ5"
      }
    },
    {
      "cell_type": "code",
      "source": [
        "class Human():\n",
        "  def __init__(self, name, age):\n",
        "    self.name = name\n",
        "    self.age = age\n",
        "  def myFunction(self):\n",
        "    print(\"hello! My name is \" + self.name)\n",
        "    print(\"I am \" + str(self.age))\n",
        "\n",
        "p1 = Human(\"Daniel\", 18)\n",
        "p1.myFunction()"
      ],
      "metadata": {
        "colab": {
          "base_uri": "https://localhost:8080/"
        },
        "id": "XhzQ-ckN5EFi",
        "outputId": "1c3734ec-6699-46b5-be7b-5f5b0d9c728e"
      },
      "execution_count": 23,
      "outputs": [
        {
          "output_type": "stream",
          "name": "stdout",
          "text": [
            "hello! My name is Daniel\n",
            "I am 18\n"
          ]
        }
      ]
    },
    {
      "cell_type": "markdown",
      "source": [
        "Create an Object"
      ],
      "metadata": {
        "id": "Fq1dZ68B5AMY"
      }
    },
    {
      "cell_type": "code",
      "source": [
        "class Car:\n",
        "  def __init__(self,name,color):\n",
        "    self.name=name\n",
        "    self.color=color\n",
        "\n",
        "  def description(self):\n",
        "    return \"The\" + self.name +\"has a color\" +self.color\n",
        "\n",
        "  def show(self):\n",
        "    print(\"The \" +self.name+\" has a color \"+ self.color)\n",
        "\n",
        "car1 = Car(\"Honda City\", \"red\")\n",
        "car1.show()"
      ],
      "metadata": {
        "colab": {
          "base_uri": "https://localhost:8080/"
        },
        "id": "nZOcRQco5tdv",
        "outputId": "1b200981-2447-43ca-a836-c73fda689b33"
      },
      "execution_count": 10,
      "outputs": [
        {
          "output_type": "stream",
          "name": "stdout",
          "text": [
            "The Honda City has a color red\n"
          ]
        }
      ]
    },
    {
      "cell_type": "markdown",
      "source": [
        "Modiy an Object Property"
      ],
      "metadata": {
        "id": "q-xYB5E75ABv"
      }
    },
    {
      "cell_type": "code",
      "source": [
        "car1.name= \"Mitsubishi\"\n",
        "print(car1.name)\n",
        "\n",
        "car1.color=\"blue\"\n",
        "print(car1.color)\n",
        "car1.show()"
      ],
      "metadata": {
        "colab": {
          "base_uri": "https://localhost:8080/"
        },
        "id": "9vff4aF25vkE",
        "outputId": "15d4bdfa-15b0-4a4e-f78d-15f631830e56"
      },
      "execution_count": 12,
      "outputs": [
        {
          "output_type": "stream",
          "name": "stdout",
          "text": [
            "Mitsubishi\n",
            "blue\n",
            "The Mitsubishi has a color blue\n"
          ]
        }
      ]
    },
    {
      "cell_type": "markdown",
      "source": [
        "Delete an Object"
      ],
      "metadata": {
        "id": "GYiDd-W04_jg"
      }
    },
    {
      "cell_type": "code",
      "source": [
        "del car1.color\n",
        "print(car1.color)"
      ],
      "metadata": {
        "colab": {
          "base_uri": "https://localhost:8080/",
          "height": 217
        },
        "id": "gV3OV9Wh5v16",
        "outputId": "eb84d9b0-5113-4c3d-daea-eb04fd922225"
      },
      "execution_count": 14,
      "outputs": [
        {
          "output_type": "error",
          "ename": "AttributeError",
          "evalue": "ignored",
          "traceback": [
            "\u001b[0;31m---------------------------------------------------------------------------\u001b[0m",
            "\u001b[0;31mAttributeError\u001b[0m                            Traceback (most recent call last)",
            "\u001b[0;32m<ipython-input-14-224436e5ca4b>\u001b[0m in \u001b[0;36m<module>\u001b[0;34m()\u001b[0m\n\u001b[0;32m----> 1\u001b[0;31m \u001b[0;32mdel\u001b[0m \u001b[0mcar1\u001b[0m\u001b[0;34m.\u001b[0m\u001b[0mcolor\u001b[0m\u001b[0;34m\u001b[0m\u001b[0;34m\u001b[0m\u001b[0m\n\u001b[0m\u001b[1;32m      2\u001b[0m \u001b[0mprint\u001b[0m\u001b[0;34m(\u001b[0m\u001b[0mcar1\u001b[0m\u001b[0;34m.\u001b[0m\u001b[0mcolor\u001b[0m\u001b[0;34m)\u001b[0m\u001b[0;34m\u001b[0m\u001b[0;34m\u001b[0m\u001b[0m\n\u001b[1;32m      3\u001b[0m \u001b[0mcar1\u001b[0m\u001b[0;34m.\u001b[0m\u001b[0mcolor\u001b[0m\u001b[0;34m=\u001b[0m\u001b[0;34m\"green\"\u001b[0m\u001b[0;34m\u001b[0m\u001b[0;34m\u001b[0m\u001b[0m\n\u001b[1;32m      4\u001b[0m \u001b[0mprint\u001b[0m\u001b[0;34m(\u001b[0m\u001b[0mcar1\u001b[0m\u001b[0;34m.\u001b[0m\u001b[0mcolor\u001b[0m\u001b[0;34m)\u001b[0m\u001b[0;34m\u001b[0m\u001b[0;34m\u001b[0m\u001b[0m\n",
            "\u001b[0;31mAttributeError\u001b[0m: color"
          ]
        }
      ]
    },
    {
      "cell_type": "code",
      "source": [
        "car1.color=\"green\"\n",
        "print(car1.color)"
      ],
      "metadata": {
        "colab": {
          "base_uri": "https://localhost:8080/"
        },
        "id": "qLSfv1Kh_4Y6",
        "outputId": "7da29bc7-399d-47cf-efed-e5099dd364d3"
      },
      "execution_count": 15,
      "outputs": [
        {
          "output_type": "stream",
          "name": "stdout",
          "text": [
            "green\n"
          ]
        }
      ]
    },
    {
      "cell_type": "markdown",
      "source": [
        "Application 1 - Write a Python program that computes for the Area and Perimeter of a Square, and create a class name Square with side as its attribute"
      ],
      "metadata": {
        "id": "ocOT04FF5fKq"
      }
    },
    {
      "cell_type": "code",
      "source": [
        "class Square():\n",
        "  def __init__(self,side):\n",
        "    self.side = side\n",
        "  \n",
        "  def area(self):\n",
        "    return self.side * self.side\n",
        "  \n",
        "  def perimeter(self):\n",
        "    return 4 * (self.side)\n",
        "\n",
        "  def display(self):\n",
        "    print(\"The area of a square is: \", self.area())\n",
        "    print(\"The perimeter of a square is: \", self.perimeter())\n",
        "\n",
        "input_square=float(input(\"Input: \"))\n",
        "eq=Square(input_square)\n",
        "eq.display()"
      ],
      "metadata": {
        "colab": {
          "base_uri": "https://localhost:8080/"
        },
        "id": "Kif5zgCn5wpT",
        "outputId": "cc83eab0-f8f7-4b74-cf95-ebed56fa24e8"
      },
      "execution_count": 27,
      "outputs": [
        {
          "output_type": "stream",
          "name": "stdout",
          "text": [
            "Input: 3.5\n",
            "The area of a square is:  12.25\n",
            "The perimeter of a square is:  14.0\n"
          ]
        }
      ]
    },
    {
      "cell_type": "markdown",
      "source": [
        "Application 2 - Write a Python program that displays your student no. and fullname(Surname,First Name MI) and create a class name OOP_58002"
      ],
      "metadata": {
        "id": "JsFNHz9C5pb5"
      }
    },
    {
      "cell_type": "code",
      "source": [
        "class Student:\n",
        "\n",
        "  def _init_(self, num , surname , FN , MI , classname):\n",
        "    self.classname = classname\n",
        "    self.num = num\n",
        "  def name(self):\n",
        "    return self.Surname, self.FN, self.MI\n",
        "\n",
        "  def id(self):\n",
        "    return self.num\n",
        "\n",
        "  def section(self):\n",
        "    return self.classname\n",
        "\n",
        "  def display(self):\n",
        "    print(\"Hello I am \", self.name())\n",
        "    print(\"My id number is \", self.id())\n",
        "    print(\"I am in class \",self.section())\n",
        "\n",
        "  Surname = \"Viray\"\n",
        "  FN = 'Daniel Joseph'\n",
        "  MI = 'M'\n",
        "  classname = 'OOP_58002'\n",
        "  num = '202111777'\n",
        "\n",
        "intro = Student()\n",
        "intro.display()"
      ],
      "metadata": {
        "colab": {
          "base_uri": "https://localhost:8080/"
        },
        "id": "4enO9miX5xJO",
        "outputId": "a17bc314-7f71-457c-f814-5023ba7c1f67"
      },
      "execution_count": 48,
      "outputs": [
        {
          "output_type": "stream",
          "name": "stdout",
          "text": [
            "Hello I am  ('Viray', 'Daniel Joseph', 'M')\n",
            "My id number is  202111777\n",
            "I am in class  OOP_58002\n"
          ]
        }
      ]
    }
  ]
}