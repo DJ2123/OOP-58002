{
  "nbformat": 4,
  "nbformat_minor": 0,
  "metadata": {
    "colab": {
      "name": "Fundamentals of Python.ipynb",
      "provenance": [],
      "authorship_tag": "ABX9TyMSm4RSxy6+dgwdkn5lel24",
      "include_colab_link": true
    },
    "kernelspec": {
      "name": "python3",
      "display_name": "Python 3"
    },
    "language_info": {
      "name": "python"
    }
  },
  "cells": [
    {
      "cell_type": "markdown",
      "metadata": {
        "id": "view-in-github",
        "colab_type": "text"
      },
      "source": [
        "<a href=\"https://colab.research.google.com/github/DJ2123/OOP-58002/blob/main/Fundamentals_of_Python.ipynb\" target=\"_parent\"><img src=\"https://colab.research.google.com/assets/colab-badge.svg\" alt=\"Open In Colab\"/></a>"
      ]
    },
    {
      "cell_type": "code",
      "execution_count": null,
      "metadata": {
        "colab": {
          "base_uri": "https://localhost:8080/"
        },
        "id": "TnNajvZrRRDZ",
        "outputId": "ae683033-f491-4d92-b903-0505a7be2880"
      },
      "outputs": [
        {
          "output_type": "stream",
          "name": "stdout",
          "text": [
            "1\n"
          ]
        }
      ],
      "source": [
        "a = 1\n",
        "print(a)"
      ]
    },
    {
      "cell_type": "markdown",
      "source": [
        "Indent"
      ],
      "metadata": {
        "id": "XfNtqlax7yBX"
      }
    },
    {
      "cell_type": "code",
      "source": [
        "a = 1\n",
        "if a > 2:\n",
        " print(\"wohoi\")\n",
        "else:\n",
        " print(\"sad wohoi\") "
      ],
      "metadata": {
        "colab": {
          "base_uri": "https://localhost:8080/"
        },
        "id": "z2Ze871J7k4X",
        "outputId": "da6e43ab-2c91-4bbe-e977-7d0696e54a74"
      },
      "execution_count": null,
      "outputs": [
        {
          "output_type": "stream",
          "name": "stdout",
          "text": [
            "sad wohoi\n"
          ]
        }
      ]
    },
    {
      "cell_type": "markdown",
      "source": [
        "comment"
      ],
      "metadata": {
        "id": "bmWBeezV8fo9"
      }
    },
    {
      "cell_type": "code",
      "source": [
        "#goodbye c++ hello python\n",
        "#int a = 1;\n",
        "int: a = 1\n",
        "print(a)"
      ],
      "metadata": {
        "colab": {
          "base_uri": "https://localhost:8080/"
        },
        "id": "anttTp6S8dHo",
        "outputId": "c143d3cc-5f70-4a06-9091-7f13ea8571db"
      },
      "execution_count": null,
      "outputs": [
        {
          "output_type": "stream",
          "name": "stdout",
          "text": [
            "1\n"
          ]
        }
      ]
    },
    {
      "cell_type": "markdown",
      "source": [
        "Output"
      ],
      "metadata": {
        "id": "yIxadSg080h_"
      }
    },
    {
      "cell_type": "code",
      "source": [
        "x = 6\n",
        "y = \"John\"\n",
        "print(x)\n",
        "print(y + \", yes John is 6\")"
      ],
      "metadata": {
        "colab": {
          "base_uri": "https://localhost:8080/"
        },
        "id": "GpaNnl3c8_z3",
        "outputId": "9d70f70e-bf36-410a-84bc-6d1b4de221eb"
      },
      "execution_count": null,
      "outputs": [
        {
          "output_type": "stream",
          "name": "stdout",
          "text": [
            "6\n",
            "John, yes John is 6\n"
          ]
        }
      ]
    },
    {
      "cell_type": "markdown",
      "source": [
        ""
      ],
      "metadata": {
        "id": "_NrcxnRl98CP"
      }
    }
  ]
}