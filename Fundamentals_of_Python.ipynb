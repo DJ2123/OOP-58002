{
  "nbformat": 4,
  "nbformat_minor": 0,
  "metadata": {
    "colab": {
      "name": "Fundamentals of Python.ipynb",
      "provenance": [],
      "collapsed_sections": [],
      "authorship_tag": "ABX9TyP8RVXrAK4WZLXK2hjYxlhV",
      "include_colab_link": true
    },
    "kernelspec": {
      "name": "python3",
      "display_name": "Python 3"
    },
    "language_info": {
      "name": "python"
    }
  },
  "cells": [
    {
      "cell_type": "markdown",
      "metadata": {
        "id": "view-in-github",
        "colab_type": "text"
      },
      "source": [
        "<a href=\"https://colab.research.google.com/github/DJ2123/OOP-58002/blob/main/Fundamentals_of_Python.ipynb\" target=\"_parent\"><img src=\"https://colab.research.google.com/assets/colab-badge.svg\" alt=\"Open In Colab\"/></a>"
      ]
    },
    {
      "cell_type": "code",
      "execution_count": null,
      "metadata": {
        "colab": {
          "base_uri": "https://localhost:8080/"
        },
        "id": "TnNajvZrRRDZ",
        "outputId": "ae683033-f491-4d92-b903-0505a7be2880"
      },
      "outputs": [
        {
          "output_type": "stream",
          "name": "stdout",
          "text": [
            "1\n"
          ]
        }
      ],
      "source": [
        "a = 1\n",
        "print(a)"
      ]
    },
    {
      "cell_type": "markdown",
      "source": [
        "Indent"
      ],
      "metadata": {
        "id": "XfNtqlax7yBX"
      }
    },
    {
      "cell_type": "code",
      "source": [
        "a = 1\n",
        "if a > 2:\n",
        " print(\"wohoi\")\n",
        "else:\n",
        " print(\"sad wohoi\") "
      ],
      "metadata": {
        "colab": {
          "base_uri": "https://localhost:8080/"
        },
        "id": "z2Ze871J7k4X",
        "outputId": "da6e43ab-2c91-4bbe-e977-7d0696e54a74"
      },
      "execution_count": null,
      "outputs": [
        {
          "output_type": "stream",
          "name": "stdout",
          "text": [
            "sad wohoi\n"
          ]
        }
      ]
    },
    {
      "cell_type": "markdown",
      "source": [
        "comment"
      ],
      "metadata": {
        "id": "bmWBeezV8fo9"
      }
    },
    {
      "cell_type": "code",
      "source": [
        "#goodbye c++ hello python\n",
        "#int a = 1;\n",
        "int: a = 1\n",
        "print(a)"
      ],
      "metadata": {
        "colab": {
          "base_uri": "https://localhost:8080/"
        },
        "id": "anttTp6S8dHo",
        "outputId": "c143d3cc-5f70-4a06-9091-7f13ea8571db"
      },
      "execution_count": null,
      "outputs": [
        {
          "output_type": "stream",
          "name": "stdout",
          "text": [
            "1\n"
          ]
        }
      ]
    },
    {
      "cell_type": "markdown",
      "source": [
        "Output"
      ],
      "metadata": {
        "id": "yIxadSg080h_"
      }
    },
    {
      "cell_type": "code",
      "source": [
        "x = 6\n",
        "y = \"John\"\n",
        "print(x)\n",
        "print(y + \", yes John is 6\")"
      ],
      "metadata": {
        "colab": {
          "base_uri": "https://localhost:8080/"
        },
        "id": "GpaNnl3c8_z3",
        "outputId": "9d70f70e-bf36-410a-84bc-6d1b4de221eb"
      },
      "execution_count": null,
      "outputs": [
        {
          "output_type": "stream",
          "name": "stdout",
          "text": [
            "6\n",
            "John, yes John is 6\n"
          ]
        }
      ]
    },
    {
      "cell_type": "markdown",
      "source": [
        "Arithmetic Operator"
      ],
      "metadata": {
        "id": "_NrcxnRl98CP"
      }
    },
    {
      "cell_type": "code",
      "source": [
        "x = 21\n",
        "print (x+21)"
      ],
      "metadata": {
        "colab": {
          "base_uri": "https://localhost:8080/"
        },
        "id": "F_C_GhrK0zYu",
        "outputId": "cc650ad3-6b2f-475d-d9ad-ce7246e91e29"
      },
      "execution_count": 3,
      "outputs": [
        {
          "output_type": "stream",
          "name": "stdout",
          "text": [
            "42\n"
          ]
        }
      ]
    },
    {
      "cell_type": "markdown",
      "source": [
        "Assignment Operator"
      ],
      "metadata": {
        "id": "bQkOoN7R1Eno"
      }
    },
    {
      "cell_type": "code",
      "source": [
        "a,b,c=21,22,23\n",
        "a+=9\n",
        "print(a)"
      ],
      "metadata": {
        "colab": {
          "base_uri": "https://localhost:8080/"
        },
        "id": "9nuRvXi81kHs",
        "outputId": "0d7cf038-cb5d-43fa-eb95-d492d51b2e1d"
      },
      "execution_count": 9,
      "outputs": [
        {
          "output_type": "stream",
          "name": "stdout",
          "text": [
            "30\n"
          ]
        }
      ]
    },
    {
      "cell_type": "markdown",
      "source": [
        "Logical, Comparison, and Identity operators"
      ],
      "metadata": {
        "id": "0hOoM5D01jsV"
      }
    },
    {
      "cell_type": "code",
      "source": [
        "d,e,f=1,2,3\n",
        "e<f and f>d\n",
        "#f is d"
      ],
      "metadata": {
        "colab": {
          "base_uri": "https://localhost:8080/"
        },
        "id": "GwDkuqRB2dgX",
        "outputId": "58f3ecba-d485-4e52-ebc8-2b5d6995222f"
      },
      "execution_count": 13,
      "outputs": [
        {
          "output_type": "execute_result",
          "data": {
            "text/plain": [
              "True"
            ]
          },
          "metadata": {},
          "execution_count": 13
        }
      ]
    }
  ]
}