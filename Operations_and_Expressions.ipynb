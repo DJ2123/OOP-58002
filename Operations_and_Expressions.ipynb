{
  "nbformat": 4,
  "nbformat_minor": 0,
  "metadata": {
    "colab": {
      "name": "Operations and Expressions.ipynb",
      "provenance": [],
      "collapsed_sections": [],
      "authorship_tag": "ABX9TyMI/fOX883GUcB8ezPiW31f",
      "include_colab_link": true
    },
    "kernelspec": {
      "name": "python3",
      "display_name": "Python 3"
    },
    "language_info": {
      "name": "python"
    }
  },
  "cells": [
    {
      "cell_type": "markdown",
      "metadata": {
        "id": "view-in-github",
        "colab_type": "text"
      },
      "source": [
        "<a href=\"https://colab.research.google.com/github/DJ2123/OOP-58002/blob/main/Operations_and_Expressions.ipynb\" target=\"_parent\"><img src=\"https://colab.research.google.com/assets/colab-badge.svg\" alt=\"Open In Colab\"/></a>"
      ]
    },
    {
      "cell_type": "markdown",
      "source": [
        "Boolean Operator"
      ],
      "metadata": {
        "id": "yRXaFzBwaJXs"
      }
    },
    {
      "cell_type": "code",
      "execution_count": 1,
      "metadata": {
        "id": "dKlhJxZFC1px",
        "colab": {
          "base_uri": "https://localhost:8080/"
        },
        "outputId": "fa9ac8a8-1051-4710-d221-f7431e0c59c5"
      },
      "outputs": [
        {
          "output_type": "stream",
          "name": "stdout",
          "text": [
            "True\n",
            "False\n",
            "False\n",
            "True\n"
          ]
        }
      ],
      "source": [
        "a = 10\n",
        "b = 9\n",
        "#print(a>b)\n",
        "#print(a<b)\n",
        "#print(a==b)\n",
        "print(bool(a))\n",
        "print(bool(None))\n",
        "print(bool(False))\n",
        "print(bool(True))"
      ]
    },
    {
      "cell_type": "markdown",
      "source": [
        "Functions can return a Boolean"
      ],
      "metadata": {
        "id": "Dn_K3oIBn83A"
      }
    },
    {
      "cell_type": "code",
      "source": [
        "def daniel():\n",
        "  return False\n",
        "\n",
        "print(daniel())"
      ],
      "metadata": {
        "colab": {
          "base_uri": "https://localhost:8080/"
        },
        "id": "wOUZucGKoD0Y",
        "outputId": "0caec192-6dc7-4f52-8e40-3b35f91d26e9"
      },
      "execution_count": 9,
      "outputs": [
        {
          "output_type": "stream",
          "name": "stdout",
          "text": [
            "False\n"
          ]
        }
      ]
    },
    {
      "cell_type": "code",
      "source": [
        "if daniel():\n",
        "  print(\"W\")\n",
        "else:\n",
        "  print(\"L\")"
      ],
      "metadata": {
        "colab": {
          "base_uri": "https://localhost:8080/"
        },
        "id": "qC6aDeeIsecv",
        "outputId": "6254a6d7-df05-4fb5-fd96-e0eabfb8f4db"
      },
      "execution_count": 11,
      "outputs": [
        {
          "output_type": "stream",
          "name": "stdout",
          "text": [
            "L\n"
          ]
        }
      ]
    },
    {
      "cell_type": "markdown",
      "source": [
        "Bitwise operator"
      ],
      "metadata": {
        "id": "jjYYXIo7zkZg"
      }
    },
    {
      "cell_type": "code",
      "source": [
        "D = 60 #0011 1100\n",
        "R = 13\n",
        "\n",
        "D&R\n",
        "print(D|R)\n",
        "print(D^R)\n",
        "\n",
        "print(D<<2) # 0011 1100 -> 1111 0000"
      ],
      "metadata": {
        "colab": {
          "base_uri": "https://localhost:8080/"
        },
        "id": "obyOMp8zsn6C",
        "outputId": "6c6afbda-db36-4c66-fc74-61a9256453a3"
      },
      "execution_count": 25,
      "outputs": [
        {
          "output_type": "stream",
          "name": "stdout",
          "text": [
            "61\n",
            "49\n",
            "240\n"
          ]
        }
      ]
    },
    {
      "cell_type": "markdown",
      "source": [
        "Logical operator"
      ],
      "metadata": {
        "id": "tuZSix0720fa"
      }
    },
    {
      "cell_type": "code",
      "source": [
        "v = True\n",
        "n = False\n",
        "\n",
        "v and n #conjunction = false\n",
        "v or n #disjunction = true\n",
        "not (v or n) #negation disjunction = false"
      ],
      "metadata": {
        "colab": {
          "base_uri": "https://localhost:8080/"
        },
        "id": "JlUxuMqU3B9B",
        "outputId": "b5f784b4-2a55-4a46-8e45-3c086df0ac3a"
      },
      "execution_count": 49,
      "outputs": [
        {
          "output_type": "execute_result",
          "data": {
            "text/plain": [
              "False"
            ]
          },
          "metadata": {},
          "execution_count": 49
        }
      ]
    },
    {
      "cell_type": "markdown",
      "source": [
        "Assignment Operator"
      ],
      "metadata": {
        "id": "Oot-hzxX3ysh"
      }
    },
    {
      "cell_type": "code",
      "source": [
        "logic = 100\n",
        "logic*= 3\n",
        "print(logic)"
      ],
      "metadata": {
        "colab": {
          "base_uri": "https://localhost:8080/"
        },
        "id": "FVp4Ntba3EUb",
        "outputId": "cd2ec5b4-271d-472b-dc24-4d6503def4e9"
      },
      "execution_count": 33,
      "outputs": [
        {
          "output_type": "stream",
          "name": "stdout",
          "text": [
            "300\n"
          ]
        }
      ]
    },
    {
      "cell_type": "markdown",
      "source": [
        "Identity Operator"
      ],
      "metadata": {
        "id": "laC4L5I34LW4"
      }
    },
    {
      "cell_type": "code",
      "source": [
        "logic is daniel #false\n",
        "daniel is not logic #true"
      ],
      "metadata": {
        "colab": {
          "base_uri": "https://localhost:8080/"
        },
        "id": "0gYefMz24Byq",
        "outputId": "26373b93-11b0-4f7e-d373-8d7ea94b9187"
      },
      "execution_count": 37,
      "outputs": [
        {
          "output_type": "execute_result",
          "data": {
            "text/plain": [
              "True"
            ]
          },
          "metadata": {},
          "execution_count": 37
        }
      ]
    },
    {
      "cell_type": "markdown",
      "source": [
        "Control Structure"
      ],
      "metadata": {
        "id": "lVxL40nY4frM"
      }
    },
    {
      "cell_type": "markdown",
      "source": [
        "If statement"
      ],
      "metadata": {
        "id": "EAqWEz6r4o4f"
      }
    },
    {
      "cell_type": "code",
      "source": [
        "if daniel is logic:\n",
        "  print(\"omsim\")\n",
        "else:\n",
        "    print(\"no\")"
      ],
      "metadata": {
        "colab": {
          "base_uri": "https://localhost:8080/"
        },
        "id": "qf9zwZvR4l9L",
        "outputId": "036852c3-562b-4cc3-f660-1da97fe259b7"
      },
      "execution_count": 40,
      "outputs": [
        {
          "output_type": "stream",
          "name": "stdout",
          "text": [
            "no\n"
          ]
        }
      ]
    },
    {
      "cell_type": "markdown",
      "source": [
        "Elif statement"
      ],
      "metadata": {
        "id": "Mi4dEJj54lM9"
      }
    },
    {
      "cell_type": "code",
      "source": [
        "daniel = 1\n",
        "logic = 1\n",
        "if daniel == logic:\n",
        "  print(\"yes\")\n",
        "elif daniel > logic: #false\n",
        "  print(\"cap\")\n",
        "else: #false\n",
        "  print(\"no\")"
      ],
      "metadata": {
        "colab": {
          "base_uri": "https://localhost:8080/"
        },
        "id": "myG-1Vzg5EkF",
        "outputId": "e463606c-dc94-4afb-9822-8e1a24ac7343"
      },
      "execution_count": 45,
      "outputs": [
        {
          "output_type": "stream",
          "name": "stdout",
          "text": [
            "yes\n"
          ]
        }
      ]
    },
    {
      "cell_type": "markdown",
      "source": [
        "Short Hand If Statement"
      ],
      "metadata": {
        "id": "Ugj7niY65k0s"
      }
    },
    {
      "cell_type": "code",
      "source": [
        "print (\"yes\") if daniel==logic else print(\"no\") "
      ],
      "metadata": {
        "colab": {
          "base_uri": "https://localhost:8080/"
        },
        "id": "KvQZbRsm5obA",
        "outputId": "760eec9f-f9d4-4b56-b678-ee6bebe7e77d"
      },
      "execution_count": 46,
      "outputs": [
        {
          "output_type": "stream",
          "name": "stdout",
          "text": [
            "yes\n"
          ]
        }
      ]
    },
    {
      "cell_type": "markdown",
      "source": [
        "And"
      ],
      "metadata": {
        "id": "GHd8_p5d6GTG"
      }
    },
    {
      "cell_type": "code",
      "source": [
        "if daniel==logic and daniel==daniel:\n",
        "  print(\"yes\")"
      ],
      "metadata": {
        "colab": {
          "base_uri": "https://localhost:8080/"
        },
        "id": "pjDJLUC96Xre",
        "outputId": "974c9b3f-1dca-4575-a951-9e1430a758da"
      },
      "execution_count": 54,
      "outputs": [
        {
          "output_type": "stream",
          "name": "stdout",
          "text": [
            "yes\n"
          ]
        }
      ]
    },
    {
      "cell_type": "markdown",
      "source": [
        "Nested if"
      ],
      "metadata": {
        "id": "_xr0gxbj6t_N"
      }
    },
    {
      "cell_type": "code",
      "source": [
        "a = 49\n",
        "\n",
        "if a>10:\n",
        "  print(\"a is greater than 10\")\n",
        "  if a>20:\n",
        "    print(\"a is greater than 20\")\n",
        "    if a>30:\n",
        "      print(\"a is greater than 30\")\n",
        "      if a>40:\n",
        "        print(\"a is greater than 40\")\n",
        "        if a>50:\n",
        "          print(\"a is greater than 50\")\n",
        "        else:\n",
        "          print(\"a is less than 50\")"
      ],
      "metadata": {
        "colab": {
          "base_uri": "https://localhost:8080/"
        },
        "id": "-dGpV_P56bbO",
        "outputId": "bf82c7bb-7234-4172-fc61-621e07e48eb9"
      },
      "execution_count": 64,
      "outputs": [
        {
          "output_type": "stream",
          "name": "stdout",
          "text": [
            "a is greater than 10\n",
            "a is greater than 20\n",
            "a is greater than 30\n",
            "a is greater than 40\n",
            "a is less than 50\n"
          ]
        }
      ]
    },
    {
      "cell_type": "markdown",
      "source": [
        "For Loop"
      ],
      "metadata": {
        "id": "vuJVHp7l_Lad"
      }
    },
    {
      "cell_type": "code",
      "source": [
        "week=['Sunday', 'Monday','Tuesday','Wednesday','Thursday','Friday','Saturday']\n",
        "for x in week:\n",
        "  print(x)"
      ],
      "metadata": {
        "colab": {
          "base_uri": "https://localhost:8080/"
        },
        "id": "F1z6VGwh_Mf-",
        "outputId": "11779f8c-6625-4eff-be2b-270b63538793"
      },
      "execution_count": 66,
      "outputs": [
        {
          "output_type": "stream",
          "name": "stdout",
          "text": [
            "Sunday\n",
            "Monday\n",
            "Tuesday\n",
            "Wednesday\n",
            "Thursday\n",
            "Friday\n",
            "Saturday\n"
          ]
        }
      ]
    },
    {
      "cell_type": "markdown",
      "source": [
        "Break"
      ],
      "metadata": {
        "id": "r82Wgoh2Av4l"
      }
    },
    {
      "cell_type": "code",
      "source": [
        "week=['Sunday', 'Monday','Tuesday','Wednesday','Thursday','Friday','Saturday']\n",
        "for x in week:\n",
        "  print(x)\n",
        "  if x==\"Wednesday\":\n",
        "    break\n",
        "\n"
      ],
      "metadata": {
        "colab": {
          "base_uri": "https://localhost:8080/"
        },
        "id": "99Ae_2qZAuYE",
        "outputId": "77ea77e6-671f-4e83-ecc1-5824304b23ef"
      },
      "execution_count": 58,
      "outputs": [
        {
          "output_type": "stream",
          "name": "stdout",
          "text": [
            "Sunday\n",
            "Monday\n",
            "Tuesday\n",
            "Wednesday\n"
          ]
        }
      ]
    },
    {
      "cell_type": "code",
      "source": [
        "week=['Sunday', 'Monday','Tuesday','Wednesday','Thursday','Friday','Saturday']\n",
        "for x in week:\n",
        "  if x==\"Wednesday\":\n",
        "    break\n",
        "print(x)"
      ],
      "metadata": {
        "colab": {
          "base_uri": "https://localhost:8080/"
        },
        "id": "KvIiupwdB8E-",
        "outputId": "c116561f-dc8c-4651-9844-b2e5406f207e"
      },
      "execution_count": 59,
      "outputs": [
        {
          "output_type": "stream",
          "name": "stdout",
          "text": [
            "Wednesday\n"
          ]
        }
      ]
    },
    {
      "cell_type": "markdown",
      "source": [
        "While Statement"
      ],
      "metadata": {
        "id": "q7mfLC5lCKGZ"
      }
    },
    {
      "cell_type": "code",
      "source": [
        "a = 1\n",
        "while a<6:\n",
        "  print(a)\n",
        "  a+=1"
      ],
      "metadata": {
        "colab": {
          "base_uri": "https://localhost:8080/"
        },
        "id": "J1xHj68pCLUy",
        "outputId": "5569eaed-587a-43ff-8255-692171a74582"
      },
      "execution_count": 16,
      "outputs": [
        {
          "output_type": "stream",
          "name": "stdout",
          "text": [
            "1\n",
            "2\n",
            "3\n",
            "4\n",
            "5\n"
          ]
        }
      ]
    },
    {
      "cell_type": "code",
      "source": [
        "b=1\n",
        "while b<6:\n",
        "  if b==3:\n",
        "    break\n",
        "  b+=1\n",
        "print(b)"
      ],
      "metadata": {
        "colab": {
          "base_uri": "https://localhost:8080/"
        },
        "id": "LnkeQX_ZCpf1",
        "outputId": "c13ad7c1-39c8-4b6a-805c-2dade4af4d6f"
      },
      "execution_count": 46,
      "outputs": [
        {
          "output_type": "stream",
          "name": "stdout",
          "text": [
            "3\n"
          ]
        }
      ]
    },
    {
      "cell_type": "markdown",
      "source": [
        "Create a program that displays"
      ],
      "metadata": {
        "id": "RiaYhzIfFDZq"
      }
    },
    {
      "cell_type": "code",
      "source": [
        "c = 0\n",
        "while c<10:\n",
        "  c+=1\n",
        "  print(\"hello \" + str(c))"
      ],
      "metadata": {
        "colab": {
          "base_uri": "https://localhost:8080/"
        },
        "id": "eqZ7rWWgFFum",
        "outputId": "9e1272e2-b75b-4d91-ccf0-ac466de13403"
      },
      "execution_count": 44,
      "outputs": [
        {
          "output_type": "stream",
          "name": "stdout",
          "text": [
            "hello 1\n",
            "hello 2\n",
            "hello 3\n",
            "hello 4\n",
            "hello 5\n",
            "hello 6\n",
            "hello 7\n",
            "hello 8\n",
            "hello 9\n",
            "hello 10\n"
          ]
        }
      ]
    },
    {
      "cell_type": "markdown",
      "source": [
        "displays integers less than 10 but not less than 3"
      ],
      "metadata": {
        "id": "ezuyywkVKMv5"
      }
    },
    {
      "cell_type": "code",
      "source": [
        "for g in range(11):\n",
        "  if g>3 and g<10:\n",
        "    print(g)"
      ],
      "metadata": {
        "colab": {
          "base_uri": "https://localhost:8080/"
        },
        "id": "GE-zw7naH0eQ",
        "outputId": "3eca8014-9dd6-4ba7-a81f-3aa8d89d7006"
      },
      "execution_count": 66,
      "outputs": [
        {
          "output_type": "stream",
          "name": "stdout",
          "text": [
            "4\n",
            "5\n",
            "6\n",
            "7\n",
            "8\n",
            "9\n"
          ]
        }
      ]
    }
  ]
}